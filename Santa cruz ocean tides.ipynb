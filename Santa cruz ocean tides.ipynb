{
 "cells": [
  {
   "cell_type": "code",
   "execution_count": 1,
   "id": "c42e184a-ea69-47f3-87c9-b3944aa5cea4",
   "metadata": {},
   "outputs": [],
   "source": [
    "import numpy as np"
   ]
  },
  {
   "cell_type": "code",
   "execution_count": 20,
   "id": "301a5f20-063e-49a7-aac6-d091da177c1b",
   "metadata": {},
   "outputs": [],
   "source": [
    "def tide_height(time, amplitude_1, period_1, amplitude_2, period_2):\n",
    "\n",
    "    tide_height = amplitude_1 * np.sin(2 * np.pi * time / period_1) + \\\n",
    "                amplitude_2 * np.sin(2 * np.pi * time / period_2)\n",
    "    \n",
    "    return tide_height"
   ]
  },
  {
   "cell_type": "code",
   "execution_count": null,
   "id": "9ed48658-11a5-4123-8f49-8e1f339734eb",
   "metadata": {},
   "outputs": [],
   "source": []
  }
 ],
 "metadata": {
  "kernelspec": {
   "display_name": "Python 3 (ipykernel)",
   "language": "python",
   "name": "python3"
  },
  "language_info": {
   "codemirror_mode": {
    "name": "ipython",
    "version": 3
   },
   "file_extension": ".py",
   "mimetype": "text/x-python",
   "name": "python",
   "nbconvert_exporter": "python",
   "pygments_lexer": "ipython3",
   "version": "3.12.1"
  }
 },
 "nbformat": 4,
 "nbformat_minor": 5
}
