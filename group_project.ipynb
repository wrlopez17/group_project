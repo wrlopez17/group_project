{
 "cells": [
  {
   "cell_type": "code",
   "execution_count": 1,
   "id": "4df30f4f",
   "metadata": {
    "scrolled": false
   },
   "outputs": [
    {
     "name": "stdout",
     "output_type": "stream",
     "text": [
      "The standard deviation of the residuals is: 2.4742085720331235\n",
      "The tsunami outlier is -0.09 standard deviations away from the mean of the residuals.\n"
     ]
    }
   ],
   "source": [
    "import numpy as np\n",
    "import pandas as pd\n",
    "from scipy.optimize import curve_fit\n",
    "import matplotlib.pyplot as plt\n",
    "from datetime import datetime\n",
    "\n",
    "# Import the data\n",
    "data = pd.read_csv('/Users/walterlopez/ASTR-19_2024/example/ASTR19_F23_group_project_data.txt', delim_whitespace=True, comment='#', header=None)\n",
    "data.columns = ['Day', 'Time', 'TideHeight']\n",
    "# Convert the time to decimal hours\n",
    "def time_to_decimal(t):\n",
    "    h, m = map(int, t.split(':'))\n",
    "    return h + m / 60\n",
    "\n",
    "data['DecimalTime'] = data['Time'].apply(time_to_decimal)\n",
    "data['TimeInDays'] = data['Day'] + data['DecimalTime'] / 24\n",
    "\n",
    "# Define the oscillatory function\n",
    "def tide_height(time, amplitude_1, period_1, amplitude_2, period_2):\n",
    "    return amplitude_1 * np.sin(2 * np.pi * time / period_1) + amplitude_2 * np.sin(2 * np.pi * time / period_2)\n",
    "\n",
    "# Fit the function to the data\n",
    "initial_guess = [1, 24, 0.5, 12.42] # Initial guess for the amplitudes and periods\n",
    "params, covariance = curve_fit(tide_height, data['TimeInDays'], data['TideHeight'], p0=initial_guess)\n",
    "fitted_tide_heights = tide_height(data['TimeInDays'], *params)\n",
    "\n",
    "# Plot the fitted curve and the data\n",
    "plt.figure(figsize=(10, 5))\n",
    "plt.plot(data['TimeInDays'], data['TideHeight'], 'bo', label='Data')\n",
    "plt.plot(data['TimeInDays'], fitted_tide_heights, 'r-', label='Fit')\n",
    "plt.xlabel('Time (Days)')\n",
    "plt.ylabel('Tide Height (ft)')\n",
    "plt.title('Tidal Measurements and Oscillatory Model Fit')\n",
    "plt.legend()\n",
    "plt.grid(True)\n",
    "plt.savefig('tidal_fit.pdf')\n",
    "plt.close()\n",
    "\n",
    "# Calculate residuals\n",
    "residuals = data['TideHeight'] - fitted_tide_heights\n",
    "\n",
    "# Plot a histogram of the residuals\n",
    "plt.figure(figsize=(10, 5))\n",
    "plt.hist(residuals, bins='auto', alpha=0.7, label='Residuals')\n",
    "plt.xlabel('Residuals (ft)')\n",
    "plt.ylabel('Frequency')\n",
    "plt.title('Histogram of Residuals')\n",
    "plt.legend()\n",
    "plt.grid(True)\n",
    "plt.savefig('residuals_histogram.pdf')\n",
    "plt.close()\n",
    "\n",
    "# Calculate the standard deviation of the residuals\n",
    "std_dev = np.std(residuals)\n",
    "print(f\"The standard deviation of the residuals is: {std_dev}\")\n",
    "\n",
    "# Adding an outlier due to the tsunami\n",
    "outlier_value = 2  # Tsunami added 2ft to the high tide\n",
    "residuals_with_outlier = np.append(residuals, outlier_value - np.mean(residuals))\n",
    "\n",
    "# Plot a histogram with the outlier\n",
    "plt.figure(figsize=(10, 5))\n",
    "plt.hist(residuals_with_outlier, bins='auto', alpha=0.7, label='Residuals with Outlier')\n",
    "plt.xlabel('Residuals (ft)')\n",
    "plt.ylabel('Frequency')\n",
    "plt.title('Histogram of Residuals with Outlier')\n",
    "plt.legend()\n",
    "plt.grid(True)\n",
    "plt.savefig('residuals_with_outlier_histogram.pdf')\n",
    "plt.close()\n",
    "\n",
    "# Calculate how many standard deviations the outlier is from the mean\n",
    "tsunami_deviation = (outlier_value - np.mean(residuals)) / std_dev\n",
    "print(f\"The tsunami outlier is {tsunami_deviation:.2f} standard deviations away from the mean of the residuals.\")\n"
   ]
  },
  {
   "cell_type": "code",
   "execution_count": null,
   "id": "21aa73e6",
   "metadata": {},
   "outputs": [],
   "source": []
  },
  {
   "cell_type": "code",
   "execution_count": null,
   "id": "803d79a2",
   "metadata": {},
   "outputs": [],
   "source": []
  },
  {
   "cell_type": "code",
   "execution_count": null,
   "id": "985e2294",
   "metadata": {},
   "outputs": [],
   "source": []
  }
 ],
 "metadata": {
  "kernelspec": {
   "display_name": "Python 3 (ipykernel)",
   "language": "python",
   "name": "python3"
  },
  "language_info": {
   "codemirror_mode": {
    "name": "ipython",
    "version": 3
   },
   "file_extension": ".py",
   "mimetype": "text/x-python",
   "name": "python",
   "nbconvert_exporter": "python",
   "pygments_lexer": "ipython3",
   "version": "3.9.7"
  }
 },
 "nbformat": 4,
 "nbformat_minor": 5
}
